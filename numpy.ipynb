{
 "cells": [
  {
   "cell_type": "code",
   "execution_count": 3,
   "id": "3ee3166d",
   "metadata": {},
   "outputs": [
    {
     "name": "stdout",
     "output_type": "stream",
     "text": [
      "Requirement already satisfied: pip in c:\\users\\lenovo\\desktop\\data sceince\\.ven\\lib\\site-packages (25.0.1)\n",
      "Collecting pip\n",
      "  Using cached pip-25.1.1-py3-none-any.whl.metadata (3.6 kB)\n",
      "Using cached pip-25.1.1-py3-none-any.whl (1.8 MB)\n",
      "Installing collected packages: pip\n",
      "  Attempting uninstall: pip\n",
      "    Found existing installation: pip 25.0.1\n",
      "    Uninstalling pip-25.0.1:\n",
      "      Successfully uninstalled pip-25.0.1\n",
      "Successfully installed pip-25.1.1\n"
     ]
    }
   ],
   "source": [
    "!python.exe -m pip install --upgrade pip\n"
   ]
  },
  {
   "cell_type": "code",
   "execution_count": 4,
   "id": "4c934fee",
   "metadata": {},
   "outputs": [
    {
     "name": "stdout",
     "output_type": "stream",
     "text": [
      "Requirement already satisfied: numpy in c:\\users\\lenovo\\desktop\\data sceince\\.ven\\lib\\site-packages (2.2.4)\n"
     ]
    }
   ],
   "source": [
    "! pip install numpy\n"
   ]
  },
  {
   "cell_type": "code",
   "execution_count": 5,
   "id": "7131c10f",
   "metadata": {},
   "outputs": [],
   "source": [
    "import numpy as np"
   ]
  },
  {
   "cell_type": "code",
   "execution_count": 9,
   "id": "95f13166",
   "metadata": {},
   "outputs": [
    {
     "name": "stdout",
     "output_type": "stream",
     "text": [
      "[ 1  2  3  4  5  6  7  8  9 10]\n"
     ]
    }
   ],
   "source": [
    "arr = np.array([1,2,3,4,5,6,7,8,9,10])\n",
    "print(arr)"
   ]
  },
  {
   "cell_type": "code",
   "execution_count": 11,
   "id": "7754c016",
   "metadata": {},
   "outputs": [
    {
     "name": "stdout",
     "output_type": "stream",
     "text": [
      "(10,)\n",
      "int64\n",
      "<class 'numpy.ndarray'>\n"
     ]
    }
   ],
   "source": [
    "print(arr.shape)\n",
    "print(arr.dtype)\n",
    "print(type(arr))\n"
   ]
  },
  {
   "cell_type": "code",
   "execution_count": 12,
   "id": "45245604",
   "metadata": {},
   "outputs": [
    {
     "name": "stdout",
     "output_type": "stream",
     "text": [
      "[[1 2 3]\n",
      " [4 5 6]]\n",
      "(2, 3)\n",
      "int64\n",
      "2\n"
     ]
    }
   ],
   "source": [
    "matrix = np.array([[1,2,3],[4,5,6]])\n",
    "print (matrix)\n",
    "print(matrix.shape)\n",
    "print(matrix.dtype)\n",
    "print(matrix.ndim)\n"
   ]
  },
  {
   "cell_type": "code",
   "execution_count": 15,
   "id": "7b2020dd",
   "metadata": {},
   "outputs": [
    {
     "name": "stdout",
     "output_type": "stream",
     "text": [
      "[[1. 0. 0. 0.]\n",
      " [0. 1. 0. 0.]\n",
      " [0. 0. 1. 0.]\n",
      " [0. 0. 0. 1.]]\n",
      "[[0 0 0 0]\n",
      " [0 0 0 0]\n",
      " [0 0 0 0]]\n",
      "[[0. 0. 0.]\n",
      " [0. 0. 0.]]\n"
     ]
    }
   ],
   "source": [
    "print(np.eye(4))\n",
    "print(np.full((3,4),0))\n",
    "print(np.zeros((2,3)))"
   ]
  },
  {
   "cell_type": "code",
   "execution_count": 18,
   "id": "d39009c5",
   "metadata": {},
   "outputs": [
    {
     "name": "stdout",
     "output_type": "stream",
     "text": [
      "[[0.37419977 0.85767244 0.62731707]\n",
      " [0.05463415 0.61181788 0.59776762]]\n",
      "[[-0.30657556 -0.81854     0.2098917 ]\n",
      " [ 0.88373525  1.27044426  0.19121926]]\n"
     ]
    }
   ],
   "source": [
    "print(np.random.rand(2,3))\n",
    "print(np.random.randn(2,3))"
   ]
  },
  {
   "cell_type": "code",
   "execution_count": 21,
   "id": "54e7dcda",
   "metadata": {},
   "outputs": [
    {
     "name": "stdout",
     "output_type": "stream",
     "text": [
      "1\n",
      "10\n",
      "[2 3]\n",
      "[1 2 3]\n",
      "[ 4  5  6  7  8  9 10]\n"
     ]
    }
   ],
   "source": [
    "print(arr[0])\n",
    "print(arr[-1])\n",
    "print(arr[1:3])\n",
    "print(arr[:3])\n",
    "print(arr[3:])\n"
   ]
  },
  {
   "cell_type": "code",
   "execution_count": null,
   "id": "a612d4b4",
   "metadata": {},
   "outputs": [],
   "source": []
  }
 ],
 "metadata": {
  "kernelspec": {
   "display_name": ".ven",
   "language": "python",
   "name": "python3"
  },
  "language_info": {
   "codemirror_mode": {
    "name": "ipython",
    "version": 3
   },
   "file_extension": ".py",
   "mimetype": "text/x-python",
   "name": "python",
   "nbconvert_exporter": "python",
   "pygments_lexer": "ipython3",
   "version": "3.13.3"
  }
 },
 "nbformat": 4,
 "nbformat_minor": 5
}
